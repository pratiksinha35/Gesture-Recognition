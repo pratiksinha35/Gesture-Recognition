{
 "cells": [
  {
   "cell_type": "markdown",
   "metadata": {},
   "source": [
    "# Gesture Recognition\n",
    "In this group project, you are going to build a 3D Conv model that will be able to predict the 5 gestures correctly. Please import the following libraries to get started."
   ]
  },
  {
   "cell_type": "code",
   "execution_count": 2,
   "metadata": {},
   "outputs": [
    {
     "name": "stdout",
     "output_type": "stream",
     "text": [
      "[]\n"
     ]
    }
   ],
   "source": [
    "import tensorflow as tf\n",
    "print(tf.config.list_physical_devices('GPU'))"
   ]
  },
  {
   "cell_type": "code",
   "execution_count": 17,
   "metadata": {},
   "outputs": [],
   "source": [
    "import numpy as np\n",
    "import os\n",
    "from cv2 import imread, resize\n",
    "import datetime\n",
    "import os\n",
    "import matplotlib.pyplot as plt\n",
    "%matplotlib inline\n",
    "import warnings\n",
    "warnings.filterwarnings(\"ignore\")"
   ]
  },
  {
   "cell_type": "code",
   "execution_count": 3,
   "metadata": {},
   "outputs": [
    {
     "name": "stdout",
     "output_type": "stream",
     "text": [
      "Thu Feb 29 21:27:21 2024       \n",
      "+-----------------------------------------------------------------------------------------+\n",
      "| NVIDIA-SMI 551.61                 Driver Version: 551.61         CUDA Version: 12.4     |\n",
      "|-----------------------------------------+------------------------+----------------------+\n",
      "| GPU  Name                     TCC/WDDM  | Bus-Id          Disp.A | Volatile Uncorr. ECC |\n",
      "| Fan  Temp   Perf          Pwr:Usage/Cap |           Memory-Usage | GPU-Util  Compute M. |\n",
      "|                                         |                        |               MIG M. |\n",
      "|=========================================+========================+======================|\n",
      "|   0  NVIDIA GeForce GTX 1050 Ti   WDDM  |   00000000:01:00.0 Off |                  N/A |\n",
      "| N/A   41C    P0             N/A / ERR!  |       0MiB /   4096MiB |      1%      Default |\n",
      "|                                         |                        |                  N/A |\n",
      "+-----------------------------------------+------------------------+----------------------+\n",
      "                                                                                         \n",
      "+-----------------------------------------------------------------------------------------+\n",
      "| Processes:                                                                              |\n",
      "|  GPU   GI   CI        PID   Type   Process name                              GPU Memory |\n",
      "|        ID   ID                                                               Usage      |\n",
      "|=========================================================================================|\n",
      "|  No running processes found                                                             |\n",
      "+-----------------------------------------------------------------------------------------+\n"
     ]
    }
   ],
   "source": [
    "!nvidia-smi"
   ]
  },
  {
   "cell_type": "markdown",
   "metadata": {},
   "source": [
    "We set the random seed so that the results don't vary drastically."
   ]
  },
  {
   "cell_type": "code",
   "execution_count": 18,
   "metadata": {},
   "outputs": [],
   "source": [
    "os.environ['PYTHONHASHSEED']=\"30\"\n",
    "np.random.seed(30)\n",
    "import random as rn\n",
    "rn.seed(30)\n",
    "import tensorflow as tf\n",
    "tf.random.set_seed(30)\n",
    "from keras import backend as K"
   ]
  },
  {
   "cell_type": "markdown",
   "metadata": {},
   "source": [
    "In this block, you read the folder names for training and validation. You also set the `batch_size` here. Note that you set the batch size in such a way that you are able to use the GPU in full capacity. You keep increasing the batch size until the machine throws an error."
   ]
  },
  {
   "cell_type": "code",
   "execution_count": 19,
   "metadata": {},
   "outputs": [],
   "source": [
    "def get_data(path, ablation=None):\n",
    "    train_doc = np.random.permutation(open(path+'train.csv').readlines())\n",
    "    val_doc = np.random.permutation(open(path+'val.csv').readlines())\n",
    "    counts = np.zeros(5)  # count for loading folders for 5 classes\n",
    "    train_data = []\n",
    "    val_data = []\n",
    "    \n",
    "    # when ablation is None, pass full training and val data\n",
    "    if ablation is not None:\n",
    "        # iterating train doc\n",
    "        for doc in train_doc:\n",
    "            label = int(doc.strip().split(';')[2])\n",
    "            if counts[label] < ablation:\n",
    "                train_data.append(doc)\n",
    "                counts[label] += 1 \n",
    "                \n",
    "        counts = np.zeros(5)\n",
    "        \n",
    "        # iterating val doc\n",
    "        for doc in val_doc:\n",
    "            label = int(doc.strip().split(';')[2])\n",
    "            if counts[label] < ablation:\n",
    "                val_data.append(doc)\n",
    "                counts[label] += 1\n",
    "    else:\n",
    "        train_data, val_data = train_doc, val_doc\n",
    "    \n",
    "    return train_data, val_data\n"
   ]
  },
  {
   "cell_type": "code",
   "execution_count": 20,
   "metadata": {},
   "outputs": [],
   "source": [
    "# # train and validatiaon data creator with ablation\n",
    "# # when ablation is 10, then 10 folders for each label will be selected.\n",
    "# def get_data(path, ablation=None):\n",
    "#     train_doc = np.random.permutation(open(path+'train.csv').readlines())\n",
    "#     val_doc = np.random.permutation(open(path+'val.csv').readlines())\n",
    "#     counts = np.zeros(5) # count for loading folders for 5 classes\n",
    "#     train_data = []\n",
    "#     val_data = []\n",
    "#     # when ablation is None pass full training and val data\n",
    "#     if ablation is not None:\n",
    "#         # iterating train doc\n",
    "#         for doc in train_doc:\n",
    "#             lable = int(doc.strip().split(';')[2])\n",
    "#             if counts[lable] < ablation:\n",
    "#                 train_data.append(doc)\n",
    "#                 counts[lable] += 1 \n",
    "#         counts = np.zeros(5)\n",
    "#         # iterating val doc\n",
    "#         for doc in val_doc:\n",
    "#             lable = int(doc.strip().split(';')[2])\n",
    "#             if counts[lable] < ablation:\n",
    "#                 val_data.append(doc)\n",
    "#                 counts[lable] += 1\n",
    "#     else:\n",
    "#         train_data, val_data = train_doc, val_doc\n",
    "#     return train_data, val_data"
   ]
  },
  {
   "cell_type": "code",
   "execution_count": 21,
   "metadata": {},
   "outputs": [],
   "source": [
    "train_doc, val_doc = get_data('Project_data/', ablation=20)\n",
    "batch_size = 32 # experiment with the batch size\n",
    "# sequence ids\n",
    "# selecting alternate frames from 7 to 26.\n",
    "seq_idx = range(7,26,2)\n",
    "# image dimensions\n",
    "dim_x, dim_y = 120, 120"
   ]
  },
  {
   "cell_type": "markdown",
   "metadata": {},
   "source": [
    "## Generator\n",
    "This is one of the most important part of the code. The overall structure of the generator has been given. In the generator, you are going to preprocess the images as you have images of 2 different dimensions as well as create a batch of video frames. You have to experiment with `img_idx`, `y`,`z` and normalization such that you get high accuracy."
   ]
  },
  {
   "cell_type": "code",
   "execution_count": 22,
   "metadata": {
    "scrolled": true
   },
   "outputs": [],
   "source": [
    "# def generator(source_path, folder_list, batch_size):\n",
    "#     print( 'Source path = ', source_path, '; batch size =', batch_size)\n",
    "#     img_idx = seq_idx#create a list of image numbers you want to use for a particular video\n",
    "#     x = len(img_idx)\n",
    "#     y = dim_x\n",
    "#     z = dim_y\n",
    "#     while True:\n",
    "#         t = np.random.permutation(folder_list)\n",
    "#         num_batches = len(source_path)//batch_size # calculate the number of batches\n",
    "#         for batch in range(num_batches): # we iterate over the number of batches\n",
    "#             batch_data = np.zeros((batch_size,x,y,z,3)) # x is the number of images you use for each video, (y,z) is the final size of the input images and 3 is the number of channels RGB\n",
    "#             batch_labels = np.zeros((batch_size,5)) # batch_labels is the one hot representation of the output\n",
    "#             for folder in range(batch_size): # iterate over the batch_size\n",
    "#                 imgs = os.listdir(source_path+'/'+ t[folder + (batch*batch_size)].split(';')[0]) # read all the images in the folder\n",
    "#                 for idx,item in enumerate(img_idx): #  Iterate iver the frames/images of a folder to read them in\n",
    "#                     image = imread(source_path+'/'+ t[folder + (batch*batch_size)].strip().split(';')[0]+'/'+imgs[item]).astype(np.float32)\n",
    "                    \n",
    "                    \n",
    "                    \n",
    "#                     # Cropped image of above dimension \n",
    "#                     # (It will not change orginal image) \n",
    "                    \n",
    "#                     #image = image.crop((0, 0, 120, 120))\n",
    "#                     image = resize(image, (dim_x, dim_y))\n",
    "                    \n",
    "                    \n",
    "#                     #crop the images and resize them. Note that the images are of 2 different shape \n",
    "#                     #and the conv3D will throw error if the inputs in a batch have different shapes\n",
    "                    \n",
    "#                     batch_data[folder, idx, :, :, 0] = image[:, :, 0] / 255\n",
    "#                     batch_data[folder, idx, :, :, 1] = image[:, :, 1] / 255\n",
    "#                     batch_data[folder, idx, :, :, 2] = image[:, :, 2] / 255\n",
    "                    \n",
    "#                 batch_labels[folder, int(t[folder + (batch*batch_size)].strip().split(';')[2])] = 1\n",
    "#             yield batch_data, batch_labels #you yield the batch_data and the batch_labels, remember what does yield do\n",
    "\n",
    "        \n",
    "#         # write the code for the remaining data points which are left after full batches\n",
    "#         if((len(source_path)%batch_size)//2==0):\n",
    "#             batch_size = 2\n",
    "#         else:\n",
    "#             batch_size = 1\n",
    "#         num_batches = len(source_path)%batch_size # calculate the number of batches\n",
    "#         for batch in range(num_batches): # we iterate over the number of batches\n",
    "#             batch_data = np.zeros((batch_size,x,y,z,3)) # x is the number of images you use for each video, (y,z) is the final size of the input images and 3 is the number of channels RGB\n",
    "#             batch_labels = np.zeros((batch_size,5)) # batch_labels is the one hot representation of the output\n",
    "#             for folder in range(batch_size): # iterate over the batch_size\n",
    "#                 imgs = os.listdir(source_path+'/'+ t[folder + (batch*batch_size)].split(';')[0]) # read all the images in the folder\n",
    "#                 for idx,item in enumerate(img_idx): #  Iterate iver the frames/images of a folder to read them in\n",
    "#                     image = imread(source_path+'/'+ t[folder + (batch*batch_size)].strip().split(';')[0]+'/'+imgs[item]).astype(np.float32)\n",
    "                    \n",
    "                    \n",
    "                    \n",
    "#                     # Cropped image of above dimension \n",
    "#                     # (It will not change orginal image) \n",
    "                    \n",
    "#                     #image = image.crop((0, 0, 120, 120))\n",
    "#                     image = resize(image, (dim_x, dim_y))\n",
    "                    \n",
    "                    \n",
    "#                     #crop the images and resize them. Note that the images are of 2 different shape \n",
    "#                     #and the conv3D will throw error if the inputs in a batch have different shapes\n",
    "                    \n",
    "#                     batch_data[folder, idx, :, :, 0] = image[:, :, 0] / 255\n",
    "#                     batch_data[folder, idx, :, :, 1] = image[:, :, 1] / 255\n",
    "#                     batch_data[folder, idx, :, :, 2] = image[:, :, 2] / 255\n",
    "                    \n",
    "#                 batch_labels[folder, int(t[folder + (batch*batch_size)].strip().split(';')[2])] = 1\n",
    "#             yield batch_data, batch_labels #you yield the batch_data and the batch_labels, remember what does yield do"
   ]
  },
  {
   "cell_type": "code",
   "execution_count": 23,
   "metadata": {},
   "outputs": [],
   "source": [
    "# generator without augmentation and cropping for train data\n",
    "def generator(source_path, folder_list, batch_size):\n",
    "    img_idx = seq_idx  # create a list of image numbers you want to use for a particular video\n",
    "    x = len(img_idx)\n",
    "    y, z = dim_x, dim_y\n",
    "    while True:\n",
    "        t = np.random.permutation(folder_list)\n",
    "\n",
    "        if (len(t) % batch_size) == 0:\n",
    "            num_batches = int(len(t) / batch_size)\n",
    "        else:\n",
    "            num_batches = len(t) // batch_size + 1\n",
    "\n",
    "        for batch in range(num_batches):  # we iterate over the number of batches\n",
    "            batch_data = np.zeros((batch_size, x, y, z, 3))  # x is the number of images you use for each video, (y,z) is the final size of the input images and 3 is the number of channels RGB\n",
    "            batch_labels = np.zeros((batch_size, 5))  # batch_labels is the one hot representation of the output\n",
    "            for folder in range(batch_size):  # iterate over the batch_size\n",
    "                # handling remaining datapoints\n",
    "                folder_idx = folder + (batch * batch_size)\n",
    "                if folder_idx >= len(t):\n",
    "                    break\n",
    "                folder_str = t[folder_idx]\n",
    "                imgs = os.listdir(source_path + '/' + folder_str.split(';')[0])  # read all the images in the folder\n",
    "\n",
    "                for idx, item in enumerate(img_idx):  # Iterate over the frames/images of a folder to read them in\n",
    "                    image = imread(source_path + '/' + folder_str.strip().split(';')[0] + '/' + imgs[item]).astype(\n",
    "                        np.float32)\n",
    "\n",
    "                    # resize the images. Note that the images are of 2 different shapes\n",
    "                    # and the conv3D will throw an error if the inputs in a batch have different shapes\n",
    "                    resized_im = resize(image, dsize=(y, z))\n",
    "\n",
    "                    # normalise and feed in the image\n",
    "                    batch_data[folder, idx, :, :, 0] = resized_im[:, :, 0] / 255\n",
    "                    batch_data[folder, idx, :, :, 1] = resized_im[:, :, 1] / 255\n",
    "                    batch_data[folder, idx, :, :, 2] = resized_im[:, :, 2] / 255\n",
    "\n",
    "                batch_labels[folder, int(folder_str.strip().split(';')[2])] = 1\n",
    "            yield batch_data, batch_labels  # you yield the batch_data and the batch_labels\n"
   ]
  },
  {
   "cell_type": "markdown",
   "metadata": {},
   "source": [
    "Note here that a video is represented above in the generator as (number of images, height, width, number of channels). Take this into consideration while creating the model architecture."
   ]
  },
  {
   "cell_type": "code",
   "execution_count": 24,
   "metadata": {},
   "outputs": [
    {
     "name": "stdout",
     "output_type": "stream",
     "text": [
      "# training sequences = 100\n",
      "# validation sequences = 94\n",
      "# epochs = 20\n"
     ]
    }
   ],
   "source": [
    "curr_dt_time = datetime.datetime.now()\n",
    "train_path = 'Project_data/train' #'/notebooks/storage/Final_data/Collated_training/train'\n",
    "val_path =  'Project_data/val' #'/notebooks/storage/Final_data/Collated_training/val'\n",
    "\n",
    "num_train_sequences = len(train_doc)\n",
    "print('# training sequences =', num_train_sequences)\n",
    "\n",
    "num_val_sequences = len(val_doc)\n",
    "print('# validation sequences =', num_val_sequences)\n",
    "\n",
    "num_epochs = 20 # choose the number of epochs\n",
    "print ('# epochs =', num_epochs)"
   ]
  },
  {
   "cell_type": "markdown",
   "metadata": {},
   "source": [
    "## Model\n",
    "Here you make the model using different functionalities that Keras provides. Remember to use `Conv3D` and `MaxPooling3D` and not `Conv2D` and `Maxpooling2D` for a 3D convolution model. You would want to use `TimeDistributed` while building a Conv2D + RNN model. Also remember that the last layer is the softmax. Design the network in such a way that the model is able to give good accuracy on the least number of parameters so that it can fit in the memory of the webcam."
   ]
  },
  {
   "cell_type": "code",
   "execution_count": 25,
   "metadata": {},
   "outputs": [],
   "source": [
    "from keras.models import Sequential, Model\n",
    "from keras.layers import Dense, GRU, Flatten, TimeDistributed, Bidirectional, BatchNormalization, Activation, Dropout, GlobalAveragePooling2D, GlobalAveragePooling3D, ConvLSTM2D, Conv2D, Conv3D, MaxPooling2D, MaxPooling3D\n",
    "from keras.callbacks import ModelCheckpoint, ReduceLROnPlateau\n",
    "from keras import optimizers\n",
    "\n",
    "#input shape for the st layer\n",
    "input_shape = (len(seq_idx), dim_x, dim_y, 3)\n",
    "np.random.seed(30)"
   ]
  },
  {
   "cell_type": "markdown",
   "metadata": {},
   "source": [
    "# Final Model"
   ]
  },
  {
   "cell_type": "code",
   "execution_count": 26,
   "metadata": {},
   "outputs": [],
   "source": [
    "model = Sequential()\n",
    "model.add(Conv3D(32, kernel_size=(3, 3, 3), activation='relu', input_shape=input_shape))\n",
    "model.add(MaxPooling3D(pool_size=(2, 2, 2)))\n",
    "model.add(Flatten())\n",
    "model.add(Dense(128, activation='relu'))\n",
    "model.add(Dense(5, activation='softmax'))\n"
   ]
  },
  {
   "cell_type": "code",
   "execution_count": 27,
   "metadata": {},
   "outputs": [],
   "source": [
    "# model = Sequential()\n",
    "# model.add(Conv3D(32, kernel_size=(3, 3, 3), activation='relu', input_shape=input_shape))\n",
    "# model.add(MaxPooling3D(pool_size=(2, 2, 2)))\n",
    "# model.add(Conv3D(64, kernel_size=(3, 3, 3), activation='relu'))\n",
    "# model.add(MaxPooling3D(pool_size=(2, 2, 2)))\n",
    "# model.add(Flatten())\n",
    "# model.add(Dense(256, activation='relu'))\n",
    "# model.add(Dense(5, activation='softmax'))"
   ]
  },
  {
   "cell_type": "markdown",
   "metadata": {},
   "source": [
    "Now that you have written the model, the next step is to `compile` the model. When you print the `summary` of the model, you'll see the total number of parameters you have to train."
   ]
  },
  {
   "cell_type": "code",
   "execution_count": 28,
   "metadata": {
    "scrolled": false
   },
   "outputs": [
    {
     "name": "stderr",
     "output_type": "stream",
     "text": [
      "WARNING:absl:`lr` is deprecated in Keras optimizer, please use `learning_rate` or use the legacy optimizer, e.g.,tf.keras.optimizers.legacy.Adam.\n"
     ]
    },
    {
     "name": "stdout",
     "output_type": "stream",
     "text": [
      "Model: \"sequential_1\"\n",
      "_________________________________________________________________\n",
      " Layer (type)                Output Shape              Param #   \n",
      "=================================================================\n",
      " conv3d_1 (Conv3D)           (None, 8, 118, 118, 32)   2624      \n",
      "                                                                 \n",
      " max_pooling3d_1 (MaxPoolin  (None, 4, 59, 59, 32)     0         \n",
      " g3D)                                                            \n",
      "                                                                 \n",
      " flatten_1 (Flatten)         (None, 445568)            0         \n",
      "                                                                 \n",
      " dense_2 (Dense)             (None, 128)               57032832  \n",
      "                                                                 \n",
      " dense_3 (Dense)             (None, 5)                 645       \n",
      "                                                                 \n",
      "=================================================================\n",
      "Total params: 57036101 (217.58 MB)\n",
      "Trainable params: 57036101 (217.58 MB)\n",
      "Non-trainable params: 0 (0.00 Byte)\n",
      "_________________________________________________________________\n",
      "None\n"
     ]
    }
   ],
   "source": [
    "optimiser = optimizers.Adam(lr=0.01) #write your optimizer\n",
    "model.compile(optimizer=optimiser, loss='categorical_crossentropy', metrics=['categorical_accuracy'])\n",
    "print(model.summary())"
   ]
  },
  {
   "cell_type": "markdown",
   "metadata": {},
   "source": [
    "Let us create the `train_generator` and the `val_generator` which will be used in `.fit_generator`."
   ]
  },
  {
   "cell_type": "code",
   "execution_count": 29,
   "metadata": {},
   "outputs": [],
   "source": [
    "train_generator = generator(train_path, train_doc, batch_size)\n",
    "val_generator = generator(val_path, val_doc, batch_size)"
   ]
  },
  {
   "cell_type": "code",
   "execution_count": 30,
   "metadata": {},
   "outputs": [
    {
     "name": "stdout",
     "output_type": "stream",
     "text": [
      "WARNING:tensorflow:`period` argument is deprecated. Please use `save_freq` to specify the frequency in number of batches seen.\n"
     ]
    },
    {
     "name": "stderr",
     "output_type": "stream",
     "text": [
      "WARNING:tensorflow:`period` argument is deprecated. Please use `save_freq` to specify the frequency in number of batches seen.\n"
     ]
    }
   ],
   "source": [
    "model_name = 'gesture_recognition_conv3d_batch_size_32' + '_' + str(curr_dt_time).replace(' ','').replace(':','_') + '/'\n",
    "\n",
    "if not os.path.exists(model_name):\n",
    "    os.mkdir(model_name)\n",
    "\n",
    "filepath = model_name + 'model-{epoch:05d}-{loss:.5f}-{categorical_accuracy:.5f}-{val_loss:.5f}-{val_categorical_accuracy:.5f}.h5'\n",
    "\n",
    "checkpoint = ModelCheckpoint(filepath, monitor='val_loss', verbose=1, save_best_only=False, save_weights_only=False, mode='auto', period=1)\n",
    "\n",
    "LR = ReduceLROnPlateau(monitor='val_loss', factor=0.2, patience=5, min_lr=0.001, verbose=1) # write the REducelronplateau code here\n",
    "\n",
    "callbacks_list = [checkpoint, LR]"
   ]
  },
  {
   "cell_type": "markdown",
   "metadata": {},
   "source": [
    "The `steps_per_epoch` and `validation_steps` are used by `fit_generator` to decide the number of next() calls it need to make."
   ]
  },
  {
   "cell_type": "code",
   "execution_count": 31,
   "metadata": {},
   "outputs": [],
   "source": [
    "if (num_train_sequences%batch_size) == 0:\n",
    "    steps_per_epoch = int(num_train_sequences/batch_size)\n",
    "else:\n",
    "    steps_per_epoch = (num_train_sequences//batch_size) + 1\n",
    "\n",
    "if (num_val_sequences%batch_size) == 0:\n",
    "    validation_steps = int(num_val_sequences/batch_size)\n",
    "else:\n",
    "    validation_steps = (num_val_sequences//batch_size) + 1"
   ]
  },
  {
   "cell_type": "markdown",
   "metadata": {},
   "source": [
    "Let us now fit the model. This will start training the model and with the help of the checkpoints, you'll be able to save the model at the end of each epoch."
   ]
  },
  {
   "cell_type": "code",
   "execution_count": 32,
   "metadata": {
    "scrolled": false
   },
   "outputs": [
    {
     "name": "stdout",
     "output_type": "stream",
     "text": [
      "Epoch 1/20\n",
      "4/4 [==============================] - ETA: 0s - loss: 28.6083 - categorical_accuracy: 0.1406 \n",
      "Epoch 1: saving model to gesture_recognition_conv3d_batch_size_32_2024-02-2900_00_01.780668\\model-00001-28.60834-0.14062-34.41335-0.20833.h5\n",
      "4/4 [==============================] - 55s 14s/step - loss: 28.6083 - categorical_accuracy: 0.1406 - val_loss: 34.4133 - val_categorical_accuracy: 0.2083 - lr: 0.0010\n",
      "Epoch 2/20\n",
      "4/4 [==============================] - ETA: 0s - loss: 15.5815 - categorical_accuracy: 0.2188 \n",
      "Epoch 2: saving model to gesture_recognition_conv3d_batch_size_32_2024-02-2900_00_01.780668\\model-00002-15.58150-0.21875-13.89716-0.13542.h5\n",
      "4/4 [==============================] - 54s 14s/step - loss: 15.5815 - categorical_accuracy: 0.2188 - val_loss: 13.8972 - val_categorical_accuracy: 0.1354 - lr: 0.0010\n",
      "Epoch 3/20\n",
      "4/4 [==============================] - ETA: 0s - loss: 7.8986 - categorical_accuracy: 0.1562  \n",
      "Epoch 3: saving model to gesture_recognition_conv3d_batch_size_32_2024-02-2900_00_01.780668\\model-00003-7.89859-0.15625-2.89761-0.16667.h5\n",
      "4/4 [==============================] - 55s 15s/step - loss: 7.8986 - categorical_accuracy: 0.1562 - val_loss: 2.8976 - val_categorical_accuracy: 0.1667 - lr: 0.0010\n",
      "Epoch 4/20\n",
      "4/4 [==============================] - ETA: 0s - loss: 1.5320 - categorical_accuracy: 0.2031 \n",
      "Epoch 4: saving model to gesture_recognition_conv3d_batch_size_32_2024-02-2900_00_01.780668\\model-00004-1.53203-0.20312-1.56231-0.21875.h5\n",
      "4/4 [==============================] - 54s 14s/step - loss: 1.5320 - categorical_accuracy: 0.2031 - val_loss: 1.5623 - val_categorical_accuracy: 0.2188 - lr: 0.0010\n",
      "Epoch 5/20\n",
      "4/4 [==============================] - ETA: 0s - loss: 1.0318 - categorical_accuracy: 0.3047 \n",
      "Epoch 5: saving model to gesture_recognition_conv3d_batch_size_32_2024-02-2900_00_01.780668\\model-00005-1.03175-0.30469-1.52582-0.22917.h5\n",
      "4/4 [==============================] - 54s 14s/step - loss: 1.0318 - categorical_accuracy: 0.3047 - val_loss: 1.5258 - val_categorical_accuracy: 0.2292 - lr: 0.0010\n",
      "Epoch 6/20\n",
      "4/4 [==============================] - ETA: 0s - loss: 0.7348 - categorical_accuracy: 0.5391 \n",
      "Epoch 6: saving model to gesture_recognition_conv3d_batch_size_32_2024-02-2900_00_01.780668\\model-00006-0.73481-0.53906-1.49179-0.30208.h5\n",
      "4/4 [==============================] - 54s 14s/step - loss: 0.7348 - categorical_accuracy: 0.5391 - val_loss: 1.4918 - val_categorical_accuracy: 0.3021 - lr: 0.0010\n",
      "Epoch 7/20\n",
      "4/4 [==============================] - ETA: 0s - loss: 0.3835 - categorical_accuracy: 0.7109 \n",
      "Epoch 7: saving model to gesture_recognition_conv3d_batch_size_32_2024-02-2900_00_01.780668\\model-00007-0.38352-0.71094-2.71144-0.23958.h5\n",
      "4/4 [==============================] - 54s 14s/step - loss: 0.3835 - categorical_accuracy: 0.7109 - val_loss: 2.7114 - val_categorical_accuracy: 0.2396 - lr: 0.0010\n",
      "Epoch 8/20\n",
      "4/4 [==============================] - ETA: 0s - loss: 0.1617 - categorical_accuracy: 0.7578 \n",
      "Epoch 8: saving model to gesture_recognition_conv3d_batch_size_32_2024-02-2900_00_01.780668\\model-00008-0.16172-0.75781-2.07979-0.29167.h5\n",
      "4/4 [==============================] - 54s 14s/step - loss: 0.1617 - categorical_accuracy: 0.7578 - val_loss: 2.0798 - val_categorical_accuracy: 0.2917 - lr: 0.0010\n",
      "Epoch 9/20\n",
      "4/4 [==============================] - ETA: 0s - loss: 0.0465 - categorical_accuracy: 0.7734 \n",
      "Epoch 9: saving model to gesture_recognition_conv3d_batch_size_32_2024-02-2900_00_01.780668\\model-00009-0.04654-0.77344-2.43186-0.36458.h5\n",
      "4/4 [==============================] - 56s 15s/step - loss: 0.0465 - categorical_accuracy: 0.7734 - val_loss: 2.4319 - val_categorical_accuracy: 0.3646 - lr: 0.0010\n",
      "Epoch 10/20\n",
      "4/4 [==============================] - ETA: 0s - loss: 0.0148 - categorical_accuracy: 1.0000 \n",
      "Epoch 10: saving model to gesture_recognition_conv3d_batch_size_32_2024-02-2900_00_01.780668\\model-00010-0.01477-1.00000-2.41650-0.41667.h5\n",
      "4/4 [==============================] - 55s 15s/step - loss: 0.0148 - categorical_accuracy: 1.0000 - val_loss: 2.4165 - val_categorical_accuracy: 0.4167 - lr: 0.0010\n",
      "Epoch 11/20\n",
      "4/4 [==============================] - ETA: 0s - loss: 0.0029 - categorical_accuracy: 0.7812 \n",
      "Epoch 11: saving model to gesture_recognition_conv3d_batch_size_32_2024-02-2900_00_01.780668\\model-00011-0.00294-0.78125-1.94512-0.45833.h5\n",
      "4/4 [==============================] - 54s 14s/step - loss: 0.0029 - categorical_accuracy: 0.7812 - val_loss: 1.9451 - val_categorical_accuracy: 0.4583 - lr: 0.0010\n",
      "Epoch 12/20\n",
      "4/4 [==============================] - ETA: 0s - loss: 0.0026 - categorical_accuracy: 0.7812 \n",
      "Epoch 12: saving model to gesture_recognition_conv3d_batch_size_32_2024-02-2900_00_01.780668\\model-00012-0.00258-0.78125-2.12040-0.43750.h5\n",
      "4/4 [==============================] - 54s 14s/step - loss: 0.0026 - categorical_accuracy: 0.7812 - val_loss: 2.1204 - val_categorical_accuracy: 0.4375 - lr: 0.0010\n",
      "Epoch 13/20\n",
      "4/4 [==============================] - ETA: 0s - loss: 0.0013 - categorical_accuracy: 0.7812 \n",
      "Epoch 13: saving model to gesture_recognition_conv3d_batch_size_32_2024-02-2900_00_01.780668\\model-00013-0.00132-0.78125-1.96583-0.42708.h5\n",
      "4/4 [==============================] - 55s 15s/step - loss: 0.0013 - categorical_accuracy: 0.7812 - val_loss: 1.9658 - val_categorical_accuracy: 0.4271 - lr: 0.0010\n",
      "Epoch 14/20\n",
      "4/4 [==============================] - ETA: 0s - loss: 0.0018 - categorical_accuracy: 0.7812 \n",
      "Epoch 14: saving model to gesture_recognition_conv3d_batch_size_32_2024-02-2900_00_01.780668\\model-00014-0.00179-0.78125-2.11920-0.37500.h5\n",
      "4/4 [==============================] - 57s 15s/step - loss: 0.0018 - categorical_accuracy: 0.7812 - val_loss: 2.1192 - val_categorical_accuracy: 0.3750 - lr: 0.0010\n",
      "Epoch 15/20\n",
      "4/4 [==============================] - ETA: 0s - loss: 0.0011 - categorical_accuracy: 1.0000 \n",
      "Epoch 15: saving model to gesture_recognition_conv3d_batch_size_32_2024-02-2900_00_01.780668\\model-00015-0.00107-1.00000-2.96935-0.35417.h5\n",
      "4/4 [==============================] - 56s 15s/step - loss: 0.0011 - categorical_accuracy: 1.0000 - val_loss: 2.9694 - val_categorical_accuracy: 0.3542 - lr: 0.0010\n",
      "Epoch 16/20\n",
      "4/4 [==============================] - ETA: 0s - loss: 4.1486e-04 - categorical_accuracy: 0.7812 \n",
      "Epoch 16: saving model to gesture_recognition_conv3d_batch_size_32_2024-02-2900_00_01.780668\\model-00016-0.00041-0.78125-2.86559-0.43750.h5\n",
      "4/4 [==============================] - 55s 15s/step - loss: 4.1486e-04 - categorical_accuracy: 0.7812 - val_loss: 2.8656 - val_categorical_accuracy: 0.4375 - lr: 0.0010\n",
      "Epoch 17/20\n",
      "4/4 [==============================] - ETA: 0s - loss: 7.2939e-04 - categorical_accuracy: 0.7812 \n",
      "Epoch 17: saving model to gesture_recognition_conv3d_batch_size_32_2024-02-2900_00_01.780668\\model-00017-0.00073-0.78125-2.47034-0.41667.h5\n",
      "4/4 [==============================] - 55s 15s/step - loss: 7.2939e-04 - categorical_accuracy: 0.7812 - val_loss: 2.4703 - val_categorical_accuracy: 0.4167 - lr: 0.0010\n",
      "Epoch 18/20\n",
      "4/4 [==============================] - ETA: 0s - loss: 0.0042 - categorical_accuracy: 1.0000    \n",
      "Epoch 18: saving model to gesture_recognition_conv3d_batch_size_32_2024-02-2900_00_01.780668\\model-00018-0.00417-1.00000-2.78545-0.42708.h5\n",
      "4/4 [==============================] - 54s 14s/step - loss: 0.0042 - categorical_accuracy: 1.0000 - val_loss: 2.7854 - val_categorical_accuracy: 0.4271 - lr: 0.0010\n",
      "Epoch 19/20\n",
      "4/4 [==============================] - ETA: 0s - loss: 0.0057 - categorical_accuracy: 0.7812 \n",
      "Epoch 19: saving model to gesture_recognition_conv3d_batch_size_32_2024-02-2900_00_01.780668\\model-00019-0.00573-0.78125-3.54579-0.40625.h5\n",
      "4/4 [==============================] - 55s 15s/step - loss: 0.0057 - categorical_accuracy: 0.7812 - val_loss: 3.5458 - val_categorical_accuracy: 0.4062 - lr: 0.0010\n",
      "Epoch 20/20\n",
      "4/4 [==============================] - ETA: 0s - loss: 0.0254 - categorical_accuracy: 0.7734 \n",
      "Epoch 20: saving model to gesture_recognition_conv3d_batch_size_32_2024-02-2900_00_01.780668\\model-00020-0.02540-0.77344-2.55152-0.37500.h5\n",
      "4/4 [==============================] - 55s 15s/step - loss: 0.0254 - categorical_accuracy: 0.7734 - val_loss: 2.5515 - val_categorical_accuracy: 0.3750 - lr: 0.0010\n"
     ]
    }
   ],
   "source": [
    "history = model.fit(train_generator, steps_per_epoch=steps_per_epoch, epochs=num_epochs, verbose=1, \n",
    "                        callbacks=callbacks_list, validation_data=val_generator, \n",
    "                        validation_steps=validation_steps, class_weight=None, workers=1, initial_epoch=0)"
   ]
  },
  {
   "cell_type": "code",
   "execution_count": 33,
   "metadata": {
    "scrolled": false
   },
   "outputs": [
    {
     "data": {
      "text/plain": [
       "<matplotlib.legend.Legend at 0x1cc4de31990>"
      ]
     },
     "execution_count": 33,
     "metadata": {},
     "output_type": "execute_result"
    },
    {
     "data": {
      "image/png": "[encoded data removed]",
      "text/plain": [
       "<Figure size 2000x600 with 2 Axes>"
      ]
     },
     "metadata": {},
     "output_type": "display_data"
    }
   ],
   "source": [
    "plt.figure(figsize=(20,6))\n",
    "ax1 = plt.subplot(121)\n",
    "ax1 = plt.plot(history.history['loss'])\n",
    "ax1 = plt.plot(history.history['val_loss'])\n",
    "plt.title('model loss')\n",
    "plt.ylabel('loss')\n",
    "plt.xlabel('epoch')\n",
    "plt.legend(['train', 'validation'], loc='lower left')\n",
    "ax2 = plt.subplot(122)\n",
    "ax2 = plt.plot(history.history['categorical_accuracy'])\n",
    "ax2 = plt.plot(history.history['val_categorical_accuracy'])\n",
    "plt.title('model accuracy')\n",
    "plt.ylabel('categorical_accuracy')\n",
    "plt.xlabel('epoch')\n",
    "plt.legend(['train', 'validation'], loc='lower left')"
   ]
  },
  {
   "cell_type": "code",
   "execution_count": null,
   "metadata": {},
   "outputs": [],
   "source": []
  }
 ],
 "metadata": {
  "kernelspec": {
   "display_name": "Python 3",
   "language": "python",
   "name": "python3"
  },
  "language_info": {
   "codemirror_mode": {
    "name": "ipython",
    "version": 3
   },
   "file_extension": ".py",
   "mimetype": "text/x-python",
   "name": "python",
   "nbconvert_exporter": "python",
   "pygments_lexer": "ipython3",
   "version": "3.11.1"
  }
 },
 "nbformat": 4,
 "nbformat_minor": 2
}
