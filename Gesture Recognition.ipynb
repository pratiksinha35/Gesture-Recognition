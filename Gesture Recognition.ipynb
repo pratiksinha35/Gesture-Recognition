{
 "cells": [
  {
   "cell_type": "markdown",
   "metadata": {},
   "source": [
    "# Gesture Recognition\n",
    "In this group project, you are going to build a 3D Conv model that will be able to predict the 5 gestures correctly. Please import the following libraries to get started."
   ]
  },
  {
   "cell_type": "code",
   "execution_count": 1,
   "metadata": {},
   "outputs": [],
   "source": [
    "import numpy as np\n",
    "import os\n",
    "from imageio import imread \n",
    "from skimage.transform import resize\n",
    "import datetime\n",
    "import os\n",
    "import matplotlib.pyplot as plt\n",
    "%matplotlib inline\n",
    "import warnings\n",
    "warnings.filterwarnings(\"ignore\")"
   ]
  },
  {
   "cell_type": "markdown",
   "metadata": {},
   "source": [
    "We set the random seed so that the results don't vary drastically."
   ]
  },
  {
   "cell_type": "code",
   "execution_count": 2,
   "metadata": {},
   "outputs": [],
   "source": [
    "os.environ['PYTHONHASHSEED']=\"30\"\n",
    "np.random.seed(30)\n",
    "import random as rn\n",
    "rn.seed(30)\n",
    "import tensorflow as tf\n",
    "tf.random.set_seed(30)\n",
    "from keras import backend as K"
   ]
  },
  {
   "cell_type": "markdown",
   "metadata": {},
   "source": [
    "In this block, you read the folder names for training and validation. You also set the `batch_size` here. Note that you set the batch size in such a way that you are able to use the GPU in full capacity. You keep increasing the batch size until the machine throws an error."
   ]
  },
  {
   "cell_type": "code",
   "execution_count": null,
   "metadata": {},
   "outputs": [],
   "source": [
    "def get_data(path, ablation=None):\n",
    "    train_doc = np.random.permutation(open(path+'train.csv').readlines())\n",
    "    val_doc = np.random.permutation(open(path+'val.csv').readlines())\n",
    "    counts = np.zeros(5)  # count for loading folders for 5 classes\n",
    "    train_data = []\n",
    "    val_data = []\n",
    "    \n",
    "    # when ablation is None, pass full training and val data\n",
    "    if ablation is not None:\n",
    "        # iterating train doc\n",
    "        for doc in train_doc:\n",
    "            label = int(doc.strip().split(';')[2])\n",
    "            if counts[label] < ablation:\n",
    "                train_data.append(doc)\n",
    "                counts[label] += 1 \n",
    "                \n",
    "        counts = np.zeros(5)\n",
    "        \n",
    "        # iterating val doc\n",
    "        for doc in val_doc:\n",
    "            label = int(doc.strip().split(';')[2])\n",
    "            if counts[label] < ablation:\n",
    "                val_data.append(doc)\n",
    "                counts[label] += 1\n",
    "    else:\n",
    "        train_data, val_data = train_doc, val_doc\n",
    "    \n",
    "    return train_data, val_data\n"
   ]
  },
  {
   "cell_type": "code",
   "execution_count": 3,
   "metadata": {},
   "outputs": [],
   "source": [
    "# # train and validatiaon data creator with ablation\n",
    "# # when ablation is 10, then 10 folders for each label will be selected.\n",
    "# def get_data(path, ablation=None):\n",
    "#     train_doc = np.random.permutation(open(path+'train.csv').readlines())\n",
    "#     val_doc = np.random.permutation(open(path+'val.csv').readlines())\n",
    "#     counts = np.zeros(5) # count for loading folders for 5 classes\n",
    "#     train_data = []\n",
    "#     val_data = []\n",
    "#     # when ablation is None pass full training and val data\n",
    "#     if ablation is not None:\n",
    "#         # iterating train doc\n",
    "#         for doc in train_doc:\n",
    "#             lable = int(doc.strip().split(';')[2])\n",
    "#             if counts[lable] < ablation:\n",
    "#                 train_data.append(doc)\n",
    "#                 counts[lable] += 1 \n",
    "#         counts = np.zeros(5)\n",
    "#         # iterating val doc\n",
    "#         for doc in val_doc:\n",
    "#             lable = int(doc.strip().split(';')[2])\n",
    "#             if counts[lable] < ablation:\n",
    "#                 val_data.append(doc)\n",
    "#                 counts[lable] += 1\n",
    "#     else:\n",
    "#         train_data, val_data = train_doc, val_doc\n",
    "#     return train_data, val_data"
   ]
  },
  {
   "cell_type": "code",
   "execution_count": 4,
   "metadata": {},
   "outputs": [],
   "source": [
    "train_doc, val_doc = get_data('Project_data/', ablation=20)\n",
    "batch_size = 32 # experiment with the batch size\n",
    "enable_augmentation = False # augmentation of Data\n",
    "# sequence ids\n",
    "# selecting alternate frames from 7 to 26.\n",
    "seq_idx = range(7,26,2)\n",
    "# image dimensions\n",
    "dim_x, dim_y = 120, 120"
   ]
  },
  {
   "cell_type": "markdown",
   "metadata": {},
   "source": [
    "## Generator\n",
    "This is one of the most important part of the code. The overall structure of the generator has been given. In the generator, you are going to preprocess the images as you have images of 2 different dimensions as well as create a batch of video frames. You have to experiment with `img_idx`, `y`,`z` and normalization such that you get high accuracy."
   ]
  },
  {
   "cell_type": "code",
   "execution_count": 5,
   "metadata": {
    "scrolled": true
   },
   "outputs": [],
   "source": [
    "# def generator(source_path, folder_list, batch_size):\n",
    "#     print( 'Source path = ', source_path, '; batch size =', batch_size)\n",
    "#     img_idx = seq_idx#create a list of image numbers you want to use for a particular video\n",
    "#     x = len(img_idx)\n",
    "#     y = dim_x\n",
    "#     z = dim_y\n",
    "#     while True:\n",
    "#         t = np.random.permutation(folder_list)\n",
    "#         num_batches = len(source_path)//batch_size # calculate the number of batches\n",
    "#         for batch in range(num_batches): # we iterate over the number of batches\n",
    "#             batch_data = np.zeros((batch_size,x,y,z,3)) # x is the number of images you use for each video, (y,z) is the final size of the input images and 3 is the number of channels RGB\n",
    "#             batch_labels = np.zeros((batch_size,5)) # batch_labels is the one hot representation of the output\n",
    "#             for folder in range(batch_size): # iterate over the batch_size\n",
    "#                 imgs = os.listdir(source_path+'/'+ t[folder + (batch*batch_size)].split(';')[0]) # read all the images in the folder\n",
    "#                 for idx,item in enumerate(img_idx): #  Iterate iver the frames/images of a folder to read them in\n",
    "#                     image = imread(source_path+'/'+ t[folder + (batch*batch_size)].strip().split(';')[0]+'/'+imgs[item]).astype(np.float32)\n",
    "                    \n",
    "                    \n",
    "                    \n",
    "#                     # Cropped image of above dimension \n",
    "#                     # (It will not change orginal image) \n",
    "                    \n",
    "#                     #image = image.crop((0, 0, 120, 120))\n",
    "#                     image = resize(image, (dim_x, dim_y))\n",
    "                    \n",
    "                    \n",
    "#                     #crop the images and resize them. Note that the images are of 2 different shape \n",
    "#                     #and the conv3D will throw error if the inputs in a batch have different shapes\n",
    "                    \n",
    "#                     batch_data[folder, idx, :, :, 0] = image[:, :, 0] / 255\n",
    "#                     batch_data[folder, idx, :, :, 1] = image[:, :, 1] / 255\n",
    "#                     batch_data[folder, idx, :, :, 2] = image[:, :, 2] / 255\n",
    "                    \n",
    "#                 batch_labels[folder, int(t[folder + (batch*batch_size)].strip().split(';')[2])] = 1\n",
    "#             yield batch_data, batch_labels #you yield the batch_data and the batch_labels, remember what does yield do\n",
    "\n",
    "        \n",
    "#         # write the code for the remaining data points which are left after full batches\n",
    "#         if((len(source_path)%batch_size)//2==0):\n",
    "#             batch_size = 2\n",
    "#         else:\n",
    "#             batch_size = 1\n",
    "#         num_batches = len(source_path)%batch_size # calculate the number of batches\n",
    "#         for batch in range(num_batches): # we iterate over the number of batches\n",
    "#             batch_data = np.zeros((batch_size,x,y,z,3)) # x is the number of images you use for each video, (y,z) is the final size of the input images and 3 is the number of channels RGB\n",
    "#             batch_labels = np.zeros((batch_size,5)) # batch_labels is the one hot representation of the output\n",
    "#             for folder in range(batch_size): # iterate over the batch_size\n",
    "#                 imgs = os.listdir(source_path+'/'+ t[folder + (batch*batch_size)].split(';')[0]) # read all the images in the folder\n",
    "#                 for idx,item in enumerate(img_idx): #  Iterate iver the frames/images of a folder to read them in\n",
    "#                     image = imread(source_path+'/'+ t[folder + (batch*batch_size)].strip().split(';')[0]+'/'+imgs[item]).astype(np.float32)\n",
    "                    \n",
    "                    \n",
    "                    \n",
    "#                     # Cropped image of above dimension \n",
    "#                     # (It will not change orginal image) \n",
    "                    \n",
    "#                     #image = image.crop((0, 0, 120, 120))\n",
    "#                     image = resize(image, (dim_x, dim_y))\n",
    "                    \n",
    "                    \n",
    "#                     #crop the images and resize them. Note that the images are of 2 different shape \n",
    "#                     #and the conv3D will throw error if the inputs in a batch have different shapes\n",
    "                    \n",
    "#                     batch_data[folder, idx, :, :, 0] = image[:, :, 0] / 255\n",
    "#                     batch_data[folder, idx, :, :, 1] = image[:, :, 1] / 255\n",
    "#                     batch_data[folder, idx, :, :, 2] = image[:, :, 2] / 255\n",
    "                    \n",
    "#                 batch_labels[folder, int(t[folder + (batch*batch_size)].strip().split(';')[2])] = 1\n",
    "#             yield batch_data, batch_labels #you yield the batch_data and the batch_labels, remember what does yield do"
   ]
  },
  {
   "cell_type": "code",
   "execution_count": 6,
   "metadata": {},
   "outputs": [],
   "source": [
    "def generator(source_path, folder_list, batch_size):\n",
    "    print('Source path = ', source_path, '; batch size =', batch_size)\n",
    "    x = len(seq_idx)\n",
    "    y = dim_x\n",
    "    z = dim_y\n",
    "    while True:\n",
    "        np.random.shuffle(folder_list)\n",
    "        num_batches = len(folder_list) // batch_size\n",
    "        remaining_folders = len(folder_list) % batch_size\n",
    "\n",
    "        for batch in range(num_batches):\n",
    "            batch_data = np.zeros((batch_size, x, y, z, 3))\n",
    "            batch_labels = np.zeros((batch_size, 5))\n",
    "            for folder in range(batch_size):\n",
    "                imgs = os.listdir(os.path.join(source_path, folder_list[folder + (batch * batch_size)].split(';')[0]))\n",
    "                for idx, item in enumerate(seq_idx):\n",
    "                    image = imread(os.path.join(source_path, folder_list[folder + (batch * batch_size)].strip().split(';')[0], imgs[item])).astype(np.float32)\n",
    "                    image = resize(image, (dim_x, dim_y))\n",
    "                    batch_data[folder, idx, :, :, 0] = image[:, :, 0] / 255\n",
    "                    batch_data[folder, idx, :, :, 1] = image[:, :, 1] / 255\n",
    "                    batch_data[folder, idx, :, :, 2] = image[:, :, 2] / 255\n",
    "                batch_labels[folder, int(folder_list[folder + (batch * batch_size)].strip().split(';')[2])] = 1\n",
    "            yield batch_data, batch_labels\n",
    "\n",
    "        # Handle remaining folders\n",
    "        if remaining_folders > 0:\n",
    "            batch_data = np.zeros((remaining_folders, x, y, z, 3))\n",
    "            batch_labels = np.zeros((remaining_folders, 5))\n",
    "            for folder in range(remaining_folders):\n",
    "                imgs = os.listdir(os.path.join(source_path, folder_list[folder + (num_batches * batch_size)].split(';')[0]))\n",
    "                for idx, item in enumerate(seq_idx):\n",
    "                    image = imread(os.path.join(source_path, folder_list[folder + (num_batches * batch_size)].strip().split(';')[0], imgs[item])).astype(np.float32)\n",
    "                    image = resize(image, (dim_x, dim_y))\n",
    "                    batch_data[folder, idx, :, :, 0] = image[:, :, 0] / 255\n",
    "                    batch_data[folder, idx, :, :, 1] = image[:, :, 1] / 255\n",
    "                    batch_data[folder, idx, :, :, 2] = image[:, :, 2] / 255\n",
    "                batch_labels[folder, int(folder_list[folder + (num_batches * batch_size)].strip().split(';')[2])] = 1\n",
    "            yield batch_data, batch_labels\n"
   ]
  },
  {
   "cell_type": "markdown",
   "metadata": {},
   "source": [
    "Note here that a video is represented above in the generator as (number of images, height, width, number of channels). Take this into consideration while creating the model architecture."
   ]
  },
  {
   "cell_type": "code",
   "execution_count": 7,
   "metadata": {},
   "outputs": [
    {
     "name": "stdout",
     "output_type": "stream",
     "text": [
      "# training sequences = 100\n",
      "# validation sequences = 94\n",
      "# epochs = 20\n"
     ]
    }
   ],
   "source": [
    "curr_dt_time = datetime.datetime.now()\n",
    "train_path = 'Project_data/train' #'/notebooks/storage/Final_data/Collated_training/train'\n",
    "val_path =  'Project_data/val' #'/notebooks/storage/Final_data/Collated_training/val'\n",
    "\n",
    "num_train_sequences = len(train_doc)\n",
    "print('# training sequences =', num_train_sequences)\n",
    "\n",
    "num_val_sequences = len(val_doc)\n",
    "print('# validation sequences =', num_val_sequences)\n",
    "\n",
    "num_epochs = 20 # choose the number of epochs\n",
    "print ('# epochs =', num_epochs)"
   ]
  },
  {
   "cell_type": "markdown",
   "metadata": {},
   "source": [
    "## Model\n",
    "Here you make the model using different functionalities that Keras provides. Remember to use `Conv3D` and `MaxPooling3D` and not `Conv2D` and `Maxpooling2D` for a 3D convolution model. You would want to use `TimeDistributed` while building a Conv2D + RNN model. Also remember that the last layer is the softmax. Design the network in such a way that the model is able to give good accuracy on the least number of parameters so that it can fit in the memory of the webcam."
   ]
  },
  {
   "cell_type": "code",
   "execution_count": 8,
   "metadata": {},
   "outputs": [],
   "source": [
    "from keras.models import Sequential, Model\n",
    "from keras.layers import Dense, GRU, Flatten, TimeDistributed, Bidirectional, BatchNormalization, Activation, Dropout, GlobalAveragePooling2D, GlobalAveragePooling3D, ConvLSTM2D, Conv2D, Conv3D, MaxPooling2D, MaxPooling3D\n",
    "from keras.callbacks import ModelCheckpoint, ReduceLROnPlateau\n",
    "from keras import optimizers\n",
    "\n",
    "#input shape for the st layer\n",
    "input_shape = (len(seq_idx), dim_x, dim_y, 3)\n",
    "np.random.seed(30)"
   ]
  },
  {
   "cell_type": "markdown",
   "metadata": {},
   "source": [
    "# Final Model"
   ]
  },
  {
   "cell_type": "code",
   "execution_count": null,
   "metadata": {},
   "outputs": [],
   "source": [
    "model = Sequential()\n",
    "model.add(Conv3D(32, kernel_size=(3, 3, 3), activation='relu', input_shape=input_shape))\n",
    "model.add(MaxPooling3D(pool_size=(2, 2, 2)))\n",
    "model.add(Flatten())\n",
    "model.add(Dense(128, activation='relu'))\n",
    "model.add(Dense(5, activation='softmax'))\n"
   ]
  },
  {
   "cell_type": "code",
   "execution_count": 9,
   "metadata": {},
   "outputs": [],
   "source": [
    "# model = Sequential()\n",
    "# model.add(Conv3D(32, kernel_size=(3, 3, 3), activation='relu', input_shape=input_shape))\n",
    "# model.add(MaxPooling3D(pool_size=(2, 2, 2)))\n",
    "# model.add(Conv3D(64, kernel_size=(3, 3, 3), activation='relu'))\n",
    "# model.add(MaxPooling3D(pool_size=(2, 2, 2)))\n",
    "# model.add(Flatten())\n",
    "# model.add(Dense(256, activation='relu'))\n",
    "# model.add(Dense(5, activation='softmax'))"
   ]
  },
  {
   "cell_type": "markdown",
   "metadata": {},
   "source": [
    "Now that you have written the model, the next step is to `compile` the model. When you print the `summary` of the model, you'll see the total number of parameters you have to train."
   ]
  },
  {
   "cell_type": "code",
   "execution_count": 10,
   "metadata": {
    "scrolled": false
   },
   "outputs": [
    {
     "name": "stderr",
     "output_type": "stream",
     "text": [
      "WARNING:absl:`lr` is deprecated in Keras optimizer, please use `learning_rate` or use the legacy optimizer, e.g.,tf.keras.optimizers.legacy.Adam.\n"
     ]
    },
    {
     "name": "stdout",
     "output_type": "stream",
     "text": [
      "Model: \"sequential\"\n",
      "_________________________________________________________________\n",
      " Layer (type)                Output Shape              Param #   \n",
      "=================================================================\n",
      " conv3d (Conv3D)             (None, 8, 118, 118, 32)   2624      \n",
      "                                                                 \n",
      " max_pooling3d (MaxPooling3  (None, 4, 59, 59, 32)     0         \n",
      " D)                                                              \n",
      "                                                                 \n",
      " conv3d_1 (Conv3D)           (None, 2, 57, 57, 64)     55360     \n",
      "                                                                 \n",
      " max_pooling3d_1 (MaxPoolin  (None, 1, 28, 28, 64)     0         \n",
      " g3D)                                                            \n",
      "                                                                 \n",
      " flatten (Flatten)           (None, 50176)             0         \n",
      "                                                                 \n",
      " dense (Dense)               (None, 256)               12845312  \n",
      "                                                                 \n",
      " dense_1 (Dense)             (None, 5)                 1285      \n",
      "                                                                 \n",
      "=================================================================\n",
      "Total params: 12904581 (49.23 MB)\n",
      "Trainable params: 12904581 (49.23 MB)\n",
      "Non-trainable params: 0 (0.00 Byte)\n",
      "_________________________________________________________________\n",
      "None\n"
     ]
    }
   ],
   "source": [
    "optimiser = optimizers.Adam(lr=0.01) #write your optimizer\n",
    "model.compile(optimizer=optimiser, loss='categorical_crossentropy', metrics=['categorical_accuracy'])\n",
    "print(model.summary())"
   ]
  },
  {
   "cell_type": "markdown",
   "metadata": {},
   "source": [
    "Let us create the `train_generator` and the `val_generator` which will be used in `.fit_generator`."
   ]
  },
  {
   "cell_type": "code",
   "execution_count": 11,
   "metadata": {},
   "outputs": [],
   "source": [
    "train_generator = generator(train_path, train_doc, batch_size)\n",
    "val_generator = generator(val_path, val_doc, batch_size)"
   ]
  },
  {
   "cell_type": "code",
   "execution_count": 12,
   "metadata": {},
   "outputs": [
    {
     "name": "stdout",
     "output_type": "stream",
     "text": [
      "WARNING:tensorflow:`period` argument is deprecated. Please use `save_freq` to specify the frequency in number of batches seen.\n"
     ]
    },
    {
     "name": "stderr",
     "output_type": "stream",
     "text": [
      "WARNING:tensorflow:`period` argument is deprecated. Please use `save_freq` to specify the frequency in number of batches seen.\n"
     ]
    }
   ],
   "source": [
    "model_name = 'gesture_recognition_conv3d_batch_size_32' + '_' + str(curr_dt_time).replace(' ','').replace(':','_') + '/'\n",
    "\n",
    "if not os.path.exists(model_name):\n",
    "    os.mkdir(model_name)\n",
    "\n",
    "filepath = model_name + 'model-{epoch:05d}-{loss:.5f}-{categorical_accuracy:.5f}-{val_loss:.5f}-{val_categorical_accuracy:.5f}.h5'\n",
    "\n",
    "checkpoint = ModelCheckpoint(filepath, monitor='val_loss', verbose=1, save_best_only=False, save_weights_only=False, mode='auto', period=1)\n",
    "\n",
    "LR = ReduceLROnPlateau(monitor='val_loss', factor=0.2, patience=5, min_lr=0.001, verbose=1) # write the REducelronplateau code here\n",
    "\n",
    "callbacks_list = [checkpoint, LR]"
   ]
  },
  {
   "cell_type": "markdown",
   "metadata": {},
   "source": [
    "The `steps_per_epoch` and `validation_steps` are used by `fit_generator` to decide the number of next() calls it need to make."
   ]
  },
  {
   "cell_type": "code",
   "execution_count": 13,
   "metadata": {},
   "outputs": [],
   "source": [
    "if (num_train_sequences%batch_size) == 0:\n",
    "    steps_per_epoch = int(num_train_sequences/batch_size)\n",
    "else:\n",
    "    steps_per_epoch = (num_train_sequences//batch_size) + 1\n",
    "\n",
    "if (num_val_sequences%batch_size) == 0:\n",
    "    validation_steps = int(num_val_sequences/batch_size)\n",
    "else:\n",
    "    validation_steps = (num_val_sequences//batch_size) + 1"
   ]
  },
  {
   "cell_type": "markdown",
   "metadata": {},
   "source": [
    "Let us now fit the model. This will start training the model and with the help of the checkpoints, you'll be able to save the model at the end of each epoch."
   ]
  },
  {
   "cell_type": "code",
   "execution_count": 14,
   "metadata": {
    "scrolled": false
   },
   "outputs": [
    {
     "name": "stdout",
     "output_type": "stream",
     "text": [
      "Source path =  Project_data/train ; batch size = 32\n",
      "Epoch 1/20\n",
      "4/4 [==============================] - ETA: 0s - loss: 6.4823 - categorical_accuracy: 0.1900 Source path =  Project_data/val ; batch size = 32\n",
      "\n",
      "Epoch 1: saving model to gesture_recognition_conv3d_batch_size_32_2024-02-2722_36_10.020607\\model-00001-6.48226-0.19000-1.65335-0.25532.h5\n",
      "4/4 [==============================] - 57s 14s/step - loss: 6.4823 - categorical_accuracy: 0.1900 - val_loss: 1.6534 - val_categorical_accuracy: 0.2553 - lr: 0.0010\n",
      "Epoch 2/20\n",
      "4/4 [==============================] - ETA: 0s - loss: 1.6468 - categorical_accuracy: 0.2700 \n",
      "Epoch 2: saving model to gesture_recognition_conv3d_batch_size_32_2024-02-2722_36_10.020607\\model-00002-1.64684-0.27000-1.60851-0.27660.h5\n",
      "4/4 [==============================] - 54s 14s/step - loss: 1.6468 - categorical_accuracy: 0.2700 - val_loss: 1.6085 - val_categorical_accuracy: 0.2766 - lr: 0.0010\n",
      "Epoch 3/20\n",
      "4/4 [==============================] - ETA: 0s - loss: 1.6013 - categorical_accuracy: 0.3500 \n",
      "Epoch 3: saving model to gesture_recognition_conv3d_batch_size_32_2024-02-2722_36_10.020607\\model-00003-1.60135-0.35000-1.57780-0.23404.h5\n",
      "4/4 [==============================] - 54s 14s/step - loss: 1.6013 - categorical_accuracy: 0.3500 - val_loss: 1.5778 - val_categorical_accuracy: 0.2340 - lr: 0.0010\n",
      "Epoch 4/20\n",
      "4/4 [==============================] - ETA: 0s - loss: 1.5734 - categorical_accuracy: 0.2400 \n",
      "Epoch 4: saving model to gesture_recognition_conv3d_batch_size_32_2024-02-2722_36_10.020607\\model-00004-1.57335-0.24000-1.59196-0.35106.h5\n",
      "4/4 [==============================] - 55s 14s/step - loss: 1.5734 - categorical_accuracy: 0.2400 - val_loss: 1.5920 - val_categorical_accuracy: 0.3511 - lr: 0.0010\n",
      "Epoch 5/20\n",
      "4/4 [==============================] - ETA: 0s - loss: 1.5467 - categorical_accuracy: 0.7500 \n",
      "Epoch 5: saving model to gesture_recognition_conv3d_batch_size_32_2024-02-2722_36_10.020607\\model-00005-1.54668-0.75000-1.61928-0.15957.h5\n",
      "4/4 [==============================] - 54s 14s/step - loss: 1.5467 - categorical_accuracy: 0.7500 - val_loss: 1.6193 - val_categorical_accuracy: 0.1596 - lr: 0.0010\n",
      "Epoch 6/20\n",
      "4/4 [==============================] - ETA: 0s - loss: 1.4842 - categorical_accuracy: 0.3200 \n",
      "Epoch 6: saving model to gesture_recognition_conv3d_batch_size_32_2024-02-2722_36_10.020607\\model-00006-1.48417-0.32000-1.58332-0.30851.h5\n",
      "4/4 [==============================] - 54s 14s/step - loss: 1.4842 - categorical_accuracy: 0.3200 - val_loss: 1.5833 - val_categorical_accuracy: 0.3085 - lr: 0.0010\n",
      "Epoch 7/20\n",
      "4/4 [==============================] - ETA: 0s - loss: 1.2942 - categorical_accuracy: 0.6800 \n",
      "Epoch 7: saving model to gesture_recognition_conv3d_batch_size_32_2024-02-2722_36_10.020607\\model-00007-1.29422-0.68000-1.59454-0.26596.h5\n",
      "4/4 [==============================] - 54s 14s/step - loss: 1.2942 - categorical_accuracy: 0.6800 - val_loss: 1.5945 - val_categorical_accuracy: 0.2660 - lr: 0.0010\n",
      "Epoch 8/20\n",
      "4/4 [==============================] - ETA: 0s - loss: 1.1381 - categorical_accuracy: 0.6700 \n",
      "Epoch 8: saving model to gesture_recognition_conv3d_batch_size_32_2024-02-2722_36_10.020607\\model-00008-1.13808-0.67000-1.70575-0.25532.h5\n",
      "4/4 [==============================] - 54s 14s/step - loss: 1.1381 - categorical_accuracy: 0.6700 - val_loss: 1.7058 - val_categorical_accuracy: 0.2553 - lr: 0.0010\n",
      "Epoch 9/20\n",
      "4/4 [==============================] - ETA: 0s - loss: 0.9330 - categorical_accuracy: 0.6700 \n",
      "Epoch 9: saving model to gesture_recognition_conv3d_batch_size_32_2024-02-2722_36_10.020607\\model-00009-0.93299-0.67000-2.00748-0.38298.h5\n",
      "4/4 [==============================] - 54s 14s/step - loss: 0.9330 - categorical_accuracy: 0.6700 - val_loss: 2.0075 - val_categorical_accuracy: 0.3830 - lr: 0.0010\n",
      "Epoch 10/20\n",
      "4/4 [==============================] - ETA: 0s - loss: 0.7127 - categorical_accuracy: 0.7400 \n",
      "Epoch 10: saving model to gesture_recognition_conv3d_batch_size_32_2024-02-2722_36_10.020607\\model-00010-0.71271-0.74000-1.77964-0.37234.h5\n",
      "4/4 [==============================] - 54s 14s/step - loss: 0.7127 - categorical_accuracy: 0.7400 - val_loss: 1.7796 - val_categorical_accuracy: 0.3723 - lr: 0.0010\n",
      "Epoch 11/20\n",
      "4/4 [==============================] - ETA: 0s - loss: 0.6697 - categorical_accuracy: 0.7500 \n",
      "Epoch 11: saving model to gesture_recognition_conv3d_batch_size_32_2024-02-2722_36_10.020607\\model-00011-0.66966-0.75000-1.38187-0.39362.h5\n",
      "4/4 [==============================] - 54s 14s/step - loss: 0.6697 - categorical_accuracy: 0.7500 - val_loss: 1.3819 - val_categorical_accuracy: 0.3936 - lr: 0.0010\n",
      "Epoch 12/20\n",
      "4/4 [==============================] - ETA: 0s - loss: 0.5895 - categorical_accuracy: 0.8600 \n",
      "Epoch 12: saving model to gesture_recognition_conv3d_batch_size_32_2024-02-2722_36_10.020607\\model-00012-0.58947-0.86000-1.33911-0.42553.h5\n",
      "4/4 [==============================] - 54s 14s/step - loss: 0.5895 - categorical_accuracy: 0.8600 - val_loss: 1.3391 - val_categorical_accuracy: 0.4255 - lr: 0.0010\n",
      "Epoch 13/20\n",
      "4/4 [==============================] - ETA: 0s - loss: 0.4309 - categorical_accuracy: 0.8800 \n",
      "Epoch 13: saving model to gesture_recognition_conv3d_batch_size_32_2024-02-2722_36_10.020607\\model-00013-0.43089-0.88000-1.85238-0.38298.h5\n",
      "4/4 [==============================] - 54s 14s/step - loss: 0.4309 - categorical_accuracy: 0.8800 - val_loss: 1.8524 - val_categorical_accuracy: 0.3830 - lr: 0.0010\n",
      "Epoch 14/20\n",
      "4/4 [==============================] - ETA: 0s - loss: 0.3332 - categorical_accuracy: 0.8900 \n",
      "Epoch 14: saving model to gesture_recognition_conv3d_batch_size_32_2024-02-2722_36_10.020607\\model-00014-0.33324-0.89000-2.12190-0.40426.h5\n",
      "4/4 [==============================] - 54s 14s/step - loss: 0.3332 - categorical_accuracy: 0.8900 - val_loss: 2.1219 - val_categorical_accuracy: 0.4043 - lr: 0.0010\n",
      "Epoch 15/20\n",
      "4/4 [==============================] - ETA: 0s - loss: 0.2280 - categorical_accuracy: 0.9400 \n",
      "Epoch 15: saving model to gesture_recognition_conv3d_batch_size_32_2024-02-2722_36_10.020607\\model-00015-0.22803-0.94000-1.92755-0.40426.h5\n",
      "4/4 [==============================] - 54s 14s/step - loss: 0.2280 - categorical_accuracy: 0.9400 - val_loss: 1.9276 - val_categorical_accuracy: 0.4043 - lr: 0.0010\n",
      "Epoch 16/20\n",
      "4/4 [==============================] - ETA: 0s - loss: 0.2538 - categorical_accuracy: 0.9200 \n",
      "Epoch 16: saving model to gesture_recognition_conv3d_batch_size_32_2024-02-2722_36_10.020607\\model-00016-0.25378-0.92000-1.77267-0.42553.h5\n",
      "4/4 [==============================] - 54s 14s/step - loss: 0.2538 - categorical_accuracy: 0.9200 - val_loss: 1.7727 - val_categorical_accuracy: 0.4255 - lr: 0.0010\n",
      "Epoch 17/20\n",
      "4/4 [==============================] - ETA: 0s - loss: 0.1070 - categorical_accuracy: 0.9900 \n",
      "Epoch 17: saving model to gesture_recognition_conv3d_batch_size_32_2024-02-2722_36_10.020607\\model-00017-0.10697-0.99000-1.90817-0.45745.h5\n",
      "4/4 [==============================] - 54s 14s/step - loss: 0.1070 - categorical_accuracy: 0.9900 - val_loss: 1.9082 - val_categorical_accuracy: 0.4574 - lr: 0.0010\n",
      "Epoch 18/20\n",
      "4/4 [==============================] - ETA: 0s - loss: 0.0568 - categorical_accuracy: 0.9900 \n",
      "Epoch 18: saving model to gesture_recognition_conv3d_batch_size_32_2024-02-2722_36_10.020607\\model-00018-0.05684-0.99000-2.24583-0.52128.h5\n",
      "4/4 [==============================] - 54s 14s/step - loss: 0.0568 - categorical_accuracy: 0.9900 - val_loss: 2.2458 - val_categorical_accuracy: 0.5213 - lr: 0.0010\n",
      "Epoch 19/20\n",
      "4/4 [==============================] - ETA: 0s - loss: 0.0282 - categorical_accuracy: 1.0000 \n",
      "Epoch 19: saving model to gesture_recognition_conv3d_batch_size_32_2024-02-2722_36_10.020607\\model-00019-0.02824-1.00000-2.19935-0.50000.h5\n",
      "4/4 [==============================] - 54s 14s/step - loss: 0.0282 - categorical_accuracy: 1.0000 - val_loss: 2.1993 - val_categorical_accuracy: 0.5000 - lr: 0.0010\n",
      "Epoch 20/20\n",
      "4/4 [==============================] - ETA: 0s - loss: 0.0453 - categorical_accuracy: 1.0000 \n",
      "Epoch 20: saving model to gesture_recognition_conv3d_batch_size_32_2024-02-2722_36_10.020607\\model-00020-0.04530-1.00000-3.06413-0.36170.h5\n",
      "4/4 [==============================] - 55s 14s/step - loss: 0.0453 - categorical_accuracy: 1.0000 - val_loss: 3.0641 - val_categorical_accuracy: 0.3617 - lr: 0.0010\n"
     ]
    }
   ],
   "source": [
    "history = model.fit(train_generator, steps_per_epoch=steps_per_epoch, epochs=num_epochs, verbose=1, \n",
    "                        callbacks=callbacks_list, validation_data=val_generator, \n",
    "                        validation_steps=validation_steps, class_weight=None, workers=1, initial_epoch=0)"
   ]
  },
  {
   "cell_type": "code",
   "execution_count": 15,
   "metadata": {
    "scrolled": false
   },
   "outputs": [
    {
     "data": {
      "text/plain": [
       "<matplotlib.legend.Legend at 0x2caaf4b3250>"
      ]
     },
     "execution_count": 15,
     "metadata": {},
     "output_type": "execute_result"
    },
    {
     "data": {
      "image/png": "[encoded data removed]",
      "text/plain": [
       "<Figure size 2000x600 with 2 Axes>"
      ]
     },
     "metadata": {},
     "output_type": "display_data"
    }
   ],
   "source": [
    "plt.figure(figsize=(20,6))\n",
    "ax1 = plt.subplot(121)\n",
    "ax1 = plt.plot(history.history['loss'])\n",
    "ax1 = plt.plot(history.history['val_loss'])\n",
    "plt.title('model loss')\n",
    "plt.ylabel('loss')\n",
    "plt.xlabel('epoch')\n",
    "plt.legend(['train', 'validation'], loc='lower left')\n",
    "ax2 = plt.subplot(122)\n",
    "ax2 = plt.plot(history.history['categorical_accuracy'])\n",
    "ax2 = plt.plot(history.history['val_categorical_accuracy'])\n",
    "plt.title('model accuracy')\n",
    "plt.ylabel('categorical_accuracy')\n",
    "plt.xlabel('epoch')\n",
    "plt.legend(['train', 'validation'], loc='lower left')"
   ]
  },
  {
   "cell_type": "code",
   "execution_count": null,
   "metadata": {},
   "outputs": [],
   "source": []
  }
 ],
 "metadata": {
  "kernelspec": {
   "display_name": "Python 3",
   "language": "python",
   "name": "python3"
  },
  "language_info": {
   "codemirror_mode": {
    "name": "ipython",
    "version": 3
   },
   "file_extension": ".py",
   "mimetype": "text/x-python",
   "name": "python",
   "nbconvert_exporter": "python",
   "pygments_lexer": "ipython3",
   "version": "3.11.1"
  }
 },
 "nbformat": 4,
 "nbformat_minor": 2
}
